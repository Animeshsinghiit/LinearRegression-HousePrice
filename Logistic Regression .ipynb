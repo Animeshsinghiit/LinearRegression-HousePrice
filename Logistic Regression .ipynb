{
 "cells": [
  {
   "cell_type": "markdown",
   "metadata": {},
   "source": [
    "# Logistic Regression Implementation\n",
    "> In this Notebook, I have implemented, Logistic regression in Python, using Sklearn and Pandas. Feel free to use my code, I would be really happy if you give me a follow, and a star. And if you really liked my work and think that it can help any of your friend then share it with them. \n",
    ">> If you are not able to understand any part of my code, then just visit my Linear Regression code, where I   had explained everything.\n",
    "\n",
    "### Thank you\n",
    "###### - **Animesh Singh**"
   ]
  },
  {
   "cell_type": "code",
   "execution_count": 1,
   "metadata": {},
   "outputs": [],
   "source": [
    "# let's import few libraries \n",
    "import pandas as pd\n",
    "import numpy as np\n",
    "import matplotlib.pyplot as plt\n",
    "from sklearn.linear_model import LogisticRegression\n",
    "from sklearn.model_selection import train_test_split\n",
    "%matplotlib inline"
   ]
  },
  {
   "cell_type": "code",
   "execution_count": 2,
   "metadata": {},
   "outputs": [
    {
     "data": {
      "text/html": [
       "<div>\n",
       "<style scoped>\n",
       "    .dataframe tbody tr th:only-of-type {\n",
       "        vertical-align: middle;\n",
       "    }\n",
       "\n",
       "    .dataframe tbody tr th {\n",
       "        vertical-align: top;\n",
       "    }\n",
       "\n",
       "    .dataframe thead th {\n",
       "        text-align: right;\n",
       "    }\n",
       "</style>\n",
       "<table border=\"1\" class=\"dataframe\">\n",
       "  <thead>\n",
       "    <tr style=\"text-align: right;\">\n",
       "      <th></th>\n",
       "      <th>PassengerId</th>\n",
       "      <th>Survived</th>\n",
       "      <th>Pclass</th>\n",
       "      <th>Name</th>\n",
       "      <th>Sex</th>\n",
       "      <th>Age</th>\n",
       "      <th>SibSp</th>\n",
       "      <th>Parch</th>\n",
       "      <th>Ticket</th>\n",
       "      <th>Fare</th>\n",
       "      <th>Cabin</th>\n",
       "      <th>Embarked</th>\n",
       "    </tr>\n",
       "  </thead>\n",
       "  <tbody>\n",
       "    <tr>\n",
       "      <th>0</th>\n",
       "      <td>1</td>\n",
       "      <td>0</td>\n",
       "      <td>3</td>\n",
       "      <td>Braund, Mr. Owen Harris</td>\n",
       "      <td>male</td>\n",
       "      <td>22.0</td>\n",
       "      <td>1</td>\n",
       "      <td>0</td>\n",
       "      <td>A/5 21171</td>\n",
       "      <td>7.2500</td>\n",
       "      <td>NaN</td>\n",
       "      <td>S</td>\n",
       "    </tr>\n",
       "    <tr>\n",
       "      <th>1</th>\n",
       "      <td>2</td>\n",
       "      <td>1</td>\n",
       "      <td>1</td>\n",
       "      <td>Cumings, Mrs. John Bradley (Florence Briggs Th...</td>\n",
       "      <td>female</td>\n",
       "      <td>38.0</td>\n",
       "      <td>1</td>\n",
       "      <td>0</td>\n",
       "      <td>PC 17599</td>\n",
       "      <td>71.2833</td>\n",
       "      <td>C85</td>\n",
       "      <td>C</td>\n",
       "    </tr>\n",
       "    <tr>\n",
       "      <th>2</th>\n",
       "      <td>3</td>\n",
       "      <td>1</td>\n",
       "      <td>3</td>\n",
       "      <td>Heikkinen, Miss. Laina</td>\n",
       "      <td>female</td>\n",
       "      <td>26.0</td>\n",
       "      <td>0</td>\n",
       "      <td>0</td>\n",
       "      <td>STON/O2. 3101282</td>\n",
       "      <td>7.9250</td>\n",
       "      <td>NaN</td>\n",
       "      <td>S</td>\n",
       "    </tr>\n",
       "    <tr>\n",
       "      <th>3</th>\n",
       "      <td>4</td>\n",
       "      <td>1</td>\n",
       "      <td>1</td>\n",
       "      <td>Futrelle, Mrs. Jacques Heath (Lily May Peel)</td>\n",
       "      <td>female</td>\n",
       "      <td>35.0</td>\n",
       "      <td>1</td>\n",
       "      <td>0</td>\n",
       "      <td>113803</td>\n",
       "      <td>53.1000</td>\n",
       "      <td>C123</td>\n",
       "      <td>S</td>\n",
       "    </tr>\n",
       "    <tr>\n",
       "      <th>4</th>\n",
       "      <td>5</td>\n",
       "      <td>0</td>\n",
       "      <td>3</td>\n",
       "      <td>Allen, Mr. William Henry</td>\n",
       "      <td>male</td>\n",
       "      <td>35.0</td>\n",
       "      <td>0</td>\n",
       "      <td>0</td>\n",
       "      <td>373450</td>\n",
       "      <td>8.0500</td>\n",
       "      <td>NaN</td>\n",
       "      <td>S</td>\n",
       "    </tr>\n",
       "  </tbody>\n",
       "</table>\n",
       "</div>"
      ],
      "text/plain": [
       "   PassengerId  Survived  Pclass  \\\n",
       "0            1         0       3   \n",
       "1            2         1       1   \n",
       "2            3         1       3   \n",
       "3            4         1       1   \n",
       "4            5         0       3   \n",
       "\n",
       "                                                Name     Sex   Age  SibSp  \\\n",
       "0                            Braund, Mr. Owen Harris    male  22.0      1   \n",
       "1  Cumings, Mrs. John Bradley (Florence Briggs Th...  female  38.0      1   \n",
       "2                             Heikkinen, Miss. Laina  female  26.0      0   \n",
       "3       Futrelle, Mrs. Jacques Heath (Lily May Peel)  female  35.0      1   \n",
       "4                           Allen, Mr. William Henry    male  35.0      0   \n",
       "\n",
       "   Parch            Ticket     Fare Cabin Embarked  \n",
       "0      0         A/5 21171   7.2500   NaN        S  \n",
       "1      0          PC 17599  71.2833   C85        C  \n",
       "2      0  STON/O2. 3101282   7.9250   NaN        S  \n",
       "3      0            113803  53.1000  C123        S  \n",
       "4      0            373450   8.0500   NaN        S  "
      ]
     },
     "execution_count": 2,
     "metadata": {},
     "output_type": "execute_result"
    }
   ],
   "source": [
    "data=pd.read_csv(\"tit_train.csv\")\n",
    "data.head()"
   ]
  },
  {
   "cell_type": "code",
   "execution_count": 3,
   "metadata": {},
   "outputs": [
    {
     "data": {
      "text/html": [
       "<div>\n",
       "<style scoped>\n",
       "    .dataframe tbody tr th:only-of-type {\n",
       "        vertical-align: middle;\n",
       "    }\n",
       "\n",
       "    .dataframe tbody tr th {\n",
       "        vertical-align: top;\n",
       "    }\n",
       "\n",
       "    .dataframe thead th {\n",
       "        text-align: right;\n",
       "    }\n",
       "</style>\n",
       "<table border=\"1\" class=\"dataframe\">\n",
       "  <thead>\n",
       "    <tr style=\"text-align: right;\">\n",
       "      <th></th>\n",
       "      <th>Survived</th>\n",
       "      <th>Age</th>\n",
       "    </tr>\n",
       "  </thead>\n",
       "  <tbody>\n",
       "    <tr>\n",
       "      <th>0</th>\n",
       "      <td>0</td>\n",
       "      <td>22.0</td>\n",
       "    </tr>\n",
       "    <tr>\n",
       "      <th>1</th>\n",
       "      <td>1</td>\n",
       "      <td>38.0</td>\n",
       "    </tr>\n",
       "    <tr>\n",
       "      <th>2</th>\n",
       "      <td>1</td>\n",
       "      <td>26.0</td>\n",
       "    </tr>\n",
       "    <tr>\n",
       "      <th>3</th>\n",
       "      <td>1</td>\n",
       "      <td>35.0</td>\n",
       "    </tr>\n",
       "    <tr>\n",
       "      <th>4</th>\n",
       "      <td>0</td>\n",
       "      <td>35.0</td>\n",
       "    </tr>\n",
       "  </tbody>\n",
       "</table>\n",
       "</div>"
      ],
      "text/plain": [
       "   Survived   Age\n",
       "0         0  22.0\n",
       "1         1  38.0\n",
       "2         1  26.0\n",
       "3         1  35.0\n",
       "4         0  35.0"
      ]
     },
     "execution_count": 3,
     "metadata": {},
     "output_type": "execute_result"
    }
   ],
   "source": [
    "data.drop([\"PassengerId\",\"Pclass\",\"Name\",\"Sex\",\"SibSp\",\"Parch\",\"Ticket\",\"Fare\",\"Cabin\",\"Embarked\"],axis=\"columns\").head()"
   ]
  },
  {
   "cell_type": "code",
   "execution_count": 4,
   "metadata": {},
   "outputs": [],
   "source": [
    "ndata=data.drop([\"PassengerId\",\"Pclass\",\"Name\",\"Sex\",\"SibSp\",\"Parch\",\"Ticket\",\"Fare\",\"Cabin\",\"Embarked\"],axis=\"columns\")"
   ]
  },
  {
   "cell_type": "code",
   "execution_count": 5,
   "metadata": {},
   "outputs": [
    {
     "data": {
      "text/html": [
       "<div>\n",
       "<style scoped>\n",
       "    .dataframe tbody tr th:only-of-type {\n",
       "        vertical-align: middle;\n",
       "    }\n",
       "\n",
       "    .dataframe tbody tr th {\n",
       "        vertical-align: top;\n",
       "    }\n",
       "\n",
       "    .dataframe thead th {\n",
       "        text-align: right;\n",
       "    }\n",
       "</style>\n",
       "<table border=\"1\" class=\"dataframe\">\n",
       "  <thead>\n",
       "    <tr style=\"text-align: right;\">\n",
       "      <th></th>\n",
       "      <th>Survived</th>\n",
       "      <th>Age</th>\n",
       "    </tr>\n",
       "  </thead>\n",
       "  <tbody>\n",
       "    <tr>\n",
       "      <th>0</th>\n",
       "      <td>0</td>\n",
       "      <td>22.0</td>\n",
       "    </tr>\n",
       "    <tr>\n",
       "      <th>1</th>\n",
       "      <td>1</td>\n",
       "      <td>38.0</td>\n",
       "    </tr>\n",
       "    <tr>\n",
       "      <th>2</th>\n",
       "      <td>1</td>\n",
       "      <td>26.0</td>\n",
       "    </tr>\n",
       "    <tr>\n",
       "      <th>3</th>\n",
       "      <td>1</td>\n",
       "      <td>35.0</td>\n",
       "    </tr>\n",
       "    <tr>\n",
       "      <th>4</th>\n",
       "      <td>0</td>\n",
       "      <td>35.0</td>\n",
       "    </tr>\n",
       "    <tr>\n",
       "      <th>...</th>\n",
       "      <td>...</td>\n",
       "      <td>...</td>\n",
       "    </tr>\n",
       "    <tr>\n",
       "      <th>886</th>\n",
       "      <td>0</td>\n",
       "      <td>27.0</td>\n",
       "    </tr>\n",
       "    <tr>\n",
       "      <th>887</th>\n",
       "      <td>1</td>\n",
       "      <td>19.0</td>\n",
       "    </tr>\n",
       "    <tr>\n",
       "      <th>888</th>\n",
       "      <td>0</td>\n",
       "      <td>NaN</td>\n",
       "    </tr>\n",
       "    <tr>\n",
       "      <th>889</th>\n",
       "      <td>1</td>\n",
       "      <td>26.0</td>\n",
       "    </tr>\n",
       "    <tr>\n",
       "      <th>890</th>\n",
       "      <td>0</td>\n",
       "      <td>32.0</td>\n",
       "    </tr>\n",
       "  </tbody>\n",
       "</table>\n",
       "<p>891 rows × 2 columns</p>\n",
       "</div>"
      ],
      "text/plain": [
       "     Survived   Age\n",
       "0           0  22.0\n",
       "1           1  38.0\n",
       "2           1  26.0\n",
       "3           1  35.0\n",
       "4           0  35.0\n",
       "..        ...   ...\n",
       "886         0  27.0\n",
       "887         1  19.0\n",
       "888         0   NaN\n",
       "889         1  26.0\n",
       "890         0  32.0\n",
       "\n",
       "[891 rows x 2 columns]"
      ]
     },
     "execution_count": 5,
     "metadata": {},
     "output_type": "execute_result"
    }
   ],
   "source": [
    "ndata"
   ]
  },
  {
   "cell_type": "code",
   "execution_count": 6,
   "metadata": {},
   "outputs": [],
   "source": [
    "# Let's Check if there's any NaN value in Columns of Ndata - using:\n",
    "# df[\"column name\"].isnull().values.any()\n",
    "# I made a function to do this job\n",
    "def checkNAN(feature):\n",
    "   return (ndata[feature].isnull().values.any())"
   ]
  },
  {
   "cell_type": "code",
   "execution_count": 7,
   "metadata": {},
   "outputs": [
    {
     "data": {
      "text/plain": [
       "False"
      ]
     },
     "execution_count": 7,
     "metadata": {},
     "output_type": "execute_result"
    }
   ],
   "source": [
    "checkNAN(\"Survived\")"
   ]
  },
  {
   "cell_type": "code",
   "execution_count": 8,
   "metadata": {},
   "outputs": [
    {
     "data": {
      "text/plain": [
       "True"
      ]
     },
     "execution_count": 8,
     "metadata": {},
     "output_type": "execute_result"
    }
   ],
   "source": [
    "checkNAN(\"Age\")"
   ]
  },
  {
   "cell_type": "code",
   "execution_count": 9,
   "metadata": {},
   "outputs": [
    {
     "data": {
      "text/plain": [
       "28.0"
      ]
     },
     "execution_count": 9,
     "metadata": {},
     "output_type": "execute_result"
    }
   ],
   "source": [
    "import math\n",
    "med=ndata.Age.median()\n",
    "med"
   ]
  },
  {
   "cell_type": "code",
   "execution_count": 10,
   "metadata": {},
   "outputs": [],
   "source": [
    "ndata.Age=pd.DataFrame(ndata.fillna(med))"
   ]
  },
  {
   "cell_type": "code",
   "execution_count": 11,
   "metadata": {},
   "outputs": [
    {
     "data": {
      "text/plain": [
       "False"
      ]
     },
     "execution_count": 11,
     "metadata": {},
     "output_type": "execute_result"
    }
   ],
   "source": [
    "checkNAN(\"Age\")"
   ]
  },
  {
   "cell_type": "code",
   "execution_count": 12,
   "metadata": {},
   "outputs": [],
   "source": [
    "# Let's seperate our data for traning and testing purposes.\n",
    "#for this here we are using train_test_split(data, target, test_size) method.\n",
    "X_train, X_test,y_train,y_test=train_test_split(ndata[[\"Age\"]],ndata[\"Survived\"],test_size=0.2)"
   ]
  },
  {
   "cell_type": "code",
   "execution_count": 13,
   "metadata": {},
   "outputs": [
    {
     "data": {
      "text/html": [
       "<div>\n",
       "<style scoped>\n",
       "    .dataframe tbody tr th:only-of-type {\n",
       "        vertical-align: middle;\n",
       "    }\n",
       "\n",
       "    .dataframe tbody tr th {\n",
       "        vertical-align: top;\n",
       "    }\n",
       "\n",
       "    .dataframe thead th {\n",
       "        text-align: right;\n",
       "    }\n",
       "</style>\n",
       "<table border=\"1\" class=\"dataframe\">\n",
       "  <thead>\n",
       "    <tr style=\"text-align: right;\">\n",
       "      <th></th>\n",
       "      <th>Age</th>\n",
       "    </tr>\n",
       "  </thead>\n",
       "  <tbody>\n",
       "    <tr>\n",
       "      <th>478</th>\n",
       "      <td>0.0</td>\n",
       "    </tr>\n",
       "    <tr>\n",
       "      <th>374</th>\n",
       "      <td>0.0</td>\n",
       "    </tr>\n",
       "    <tr>\n",
       "      <th>890</th>\n",
       "      <td>0.0</td>\n",
       "    </tr>\n",
       "    <tr>\n",
       "      <th>597</th>\n",
       "      <td>0.0</td>\n",
       "    </tr>\n",
       "    <tr>\n",
       "      <th>175</th>\n",
       "      <td>0.0</td>\n",
       "    </tr>\n",
       "  </tbody>\n",
       "</table>\n",
       "</div>"
      ],
      "text/plain": [
       "     Age\n",
       "478  0.0\n",
       "374  0.0\n",
       "890  0.0\n",
       "597  0.0\n",
       "175  0.0"
      ]
     },
     "execution_count": 13,
     "metadata": {},
     "output_type": "execute_result"
    }
   ],
   "source": [
    "X_train.head()"
   ]
  },
  {
   "cell_type": "code",
   "execution_count": 14,
   "metadata": {},
   "outputs": [],
   "source": [
    "log_model=LogisticRegression().fit(X_train,y_train)"
   ]
  },
  {
   "cell_type": "code",
   "execution_count": 15,
   "metadata": {},
   "outputs": [
    {
     "data": {
      "text/plain": [
       "array([1, 0, 1, 0, 1, 0, 1, 0, 1, 1, 1, 1, 0, 0, 0, 1, 1, 1, 0, 0, 0, 0,\n",
       "       1, 0, 0, 0, 0, 1, 0, 0, 1, 0, 1, 0, 1, 0, 0, 0, 1, 0, 0, 0, 1, 0,\n",
       "       0, 1, 0, 0, 1, 0, 0, 1, 0, 0, 1, 0, 0, 1, 1, 1, 0, 1, 0, 0, 0, 1,\n",
       "       1, 0, 0, 1, 0, 0, 0, 1, 0, 1, 0, 0, 0, 0, 0, 1, 1, 0, 0, 0, 0, 0,\n",
       "       0, 0, 0, 0, 0, 0, 0, 1, 0, 1, 1, 0, 1, 1, 1, 1, 0, 1, 0, 1, 0, 0,\n",
       "       0, 1, 1, 0, 0, 0, 0, 0, 1, 1, 1, 1, 1, 0, 1, 0, 0, 0, 0, 0, 0, 0,\n",
       "       0, 0, 0, 0, 1, 0, 0, 1, 0, 0, 1, 0, 0, 0, 1, 0, 0, 1, 1, 0, 0, 0,\n",
       "       0, 1, 0, 1, 0, 0, 0, 1, 1, 0, 0, 0, 0, 0, 1, 1, 1, 0, 0, 1, 1, 1,\n",
       "       1, 0, 0])"
      ]
     },
     "execution_count": 15,
     "metadata": {},
     "output_type": "execute_result"
    }
   ],
   "source": [
    "log_model.predict(X_test)"
   ]
  },
  {
   "cell_type": "code",
   "execution_count": 16,
   "metadata": {},
   "outputs": [
    {
     "data": {
      "text/plain": [
       "1.0"
      ]
     },
     "execution_count": 16,
     "metadata": {},
     "output_type": "execute_result"
    }
   ],
   "source": [
    "log_model.score(X_test,y_test)"
   ]
  },
  {
   "cell_type": "code",
   "execution_count": 17,
   "metadata": {},
   "outputs": [
    {
     "data": {
      "text/plain": [
       "array([[0.02762159, 0.97237841],\n",
       "       [0.98261801, 0.01738199],\n",
       "       [0.02762159, 0.97237841],\n",
       "       [0.98261801, 0.01738199],\n",
       "       [0.02762159, 0.97237841],\n",
       "       [0.98261801, 0.01738199],\n",
       "       [0.02762159, 0.97237841],\n",
       "       [0.98261801, 0.01738199],\n",
       "       [0.02762159, 0.97237841],\n",
       "       [0.02762159, 0.97237841],\n",
       "       [0.02762159, 0.97237841],\n",
       "       [0.02762159, 0.97237841],\n",
       "       [0.98261801, 0.01738199],\n",
       "       [0.98261801, 0.01738199],\n",
       "       [0.98261801, 0.01738199],\n",
       "       [0.02762159, 0.97237841],\n",
       "       [0.02762159, 0.97237841],\n",
       "       [0.02762159, 0.97237841],\n",
       "       [0.98261801, 0.01738199],\n",
       "       [0.98261801, 0.01738199],\n",
       "       [0.98261801, 0.01738199],\n",
       "       [0.98261801, 0.01738199],\n",
       "       [0.02762159, 0.97237841],\n",
       "       [0.98261801, 0.01738199],\n",
       "       [0.98261801, 0.01738199],\n",
       "       [0.98261801, 0.01738199],\n",
       "       [0.98261801, 0.01738199],\n",
       "       [0.02762159, 0.97237841],\n",
       "       [0.98261801, 0.01738199],\n",
       "       [0.98261801, 0.01738199],\n",
       "       [0.02762159, 0.97237841],\n",
       "       [0.98261801, 0.01738199],\n",
       "       [0.02762159, 0.97237841],\n",
       "       [0.98261801, 0.01738199],\n",
       "       [0.02762159, 0.97237841],\n",
       "       [0.98261801, 0.01738199],\n",
       "       [0.98261801, 0.01738199],\n",
       "       [0.98261801, 0.01738199],\n",
       "       [0.02762159, 0.97237841],\n",
       "       [0.98261801, 0.01738199],\n",
       "       [0.98261801, 0.01738199],\n",
       "       [0.98261801, 0.01738199],\n",
       "       [0.02762159, 0.97237841],\n",
       "       [0.98261801, 0.01738199],\n",
       "       [0.98261801, 0.01738199],\n",
       "       [0.02762159, 0.97237841],\n",
       "       [0.98261801, 0.01738199],\n",
       "       [0.98261801, 0.01738199],\n",
       "       [0.02762159, 0.97237841],\n",
       "       [0.98261801, 0.01738199],\n",
       "       [0.98261801, 0.01738199],\n",
       "       [0.02762159, 0.97237841],\n",
       "       [0.98261801, 0.01738199],\n",
       "       [0.98261801, 0.01738199],\n",
       "       [0.02762159, 0.97237841],\n",
       "       [0.98261801, 0.01738199],\n",
       "       [0.98261801, 0.01738199],\n",
       "       [0.02762159, 0.97237841],\n",
       "       [0.02762159, 0.97237841],\n",
       "       [0.02762159, 0.97237841],\n",
       "       [0.98261801, 0.01738199],\n",
       "       [0.02762159, 0.97237841],\n",
       "       [0.98261801, 0.01738199],\n",
       "       [0.98261801, 0.01738199],\n",
       "       [0.98261801, 0.01738199],\n",
       "       [0.02762159, 0.97237841],\n",
       "       [0.02762159, 0.97237841],\n",
       "       [0.98261801, 0.01738199],\n",
       "       [0.98261801, 0.01738199],\n",
       "       [0.02762159, 0.97237841],\n",
       "       [0.98261801, 0.01738199],\n",
       "       [0.98261801, 0.01738199],\n",
       "       [0.98261801, 0.01738199],\n",
       "       [0.02762159, 0.97237841],\n",
       "       [0.98261801, 0.01738199],\n",
       "       [0.02762159, 0.97237841],\n",
       "       [0.98261801, 0.01738199],\n",
       "       [0.98261801, 0.01738199],\n",
       "       [0.98261801, 0.01738199],\n",
       "       [0.98261801, 0.01738199],\n",
       "       [0.98261801, 0.01738199],\n",
       "       [0.02762159, 0.97237841],\n",
       "       [0.02762159, 0.97237841],\n",
       "       [0.98261801, 0.01738199],\n",
       "       [0.98261801, 0.01738199],\n",
       "       [0.98261801, 0.01738199],\n",
       "       [0.98261801, 0.01738199],\n",
       "       [0.98261801, 0.01738199],\n",
       "       [0.98261801, 0.01738199],\n",
       "       [0.98261801, 0.01738199],\n",
       "       [0.98261801, 0.01738199],\n",
       "       [0.98261801, 0.01738199],\n",
       "       [0.98261801, 0.01738199],\n",
       "       [0.98261801, 0.01738199],\n",
       "       [0.98261801, 0.01738199],\n",
       "       [0.02762159, 0.97237841],\n",
       "       [0.98261801, 0.01738199],\n",
       "       [0.02762159, 0.97237841],\n",
       "       [0.02762159, 0.97237841],\n",
       "       [0.98261801, 0.01738199],\n",
       "       [0.02762159, 0.97237841],\n",
       "       [0.02762159, 0.97237841],\n",
       "       [0.02762159, 0.97237841],\n",
       "       [0.02762159, 0.97237841],\n",
       "       [0.98261801, 0.01738199],\n",
       "       [0.02762159, 0.97237841],\n",
       "       [0.98261801, 0.01738199],\n",
       "       [0.02762159, 0.97237841],\n",
       "       [0.98261801, 0.01738199],\n",
       "       [0.98261801, 0.01738199],\n",
       "       [0.98261801, 0.01738199],\n",
       "       [0.02762159, 0.97237841],\n",
       "       [0.02762159, 0.97237841],\n",
       "       [0.98261801, 0.01738199],\n",
       "       [0.98261801, 0.01738199],\n",
       "       [0.98261801, 0.01738199],\n",
       "       [0.98261801, 0.01738199],\n",
       "       [0.98261801, 0.01738199],\n",
       "       [0.02762159, 0.97237841],\n",
       "       [0.02762159, 0.97237841],\n",
       "       [0.02762159, 0.97237841],\n",
       "       [0.02762159, 0.97237841],\n",
       "       [0.02762159, 0.97237841],\n",
       "       [0.98261801, 0.01738199],\n",
       "       [0.02762159, 0.97237841],\n",
       "       [0.98261801, 0.01738199],\n",
       "       [0.98261801, 0.01738199],\n",
       "       [0.98261801, 0.01738199],\n",
       "       [0.98261801, 0.01738199],\n",
       "       [0.98261801, 0.01738199],\n",
       "       [0.98261801, 0.01738199],\n",
       "       [0.98261801, 0.01738199],\n",
       "       [0.98261801, 0.01738199],\n",
       "       [0.98261801, 0.01738199],\n",
       "       [0.98261801, 0.01738199],\n",
       "       [0.98261801, 0.01738199],\n",
       "       [0.02762159, 0.97237841],\n",
       "       [0.98261801, 0.01738199],\n",
       "       [0.98261801, 0.01738199],\n",
       "       [0.02762159, 0.97237841],\n",
       "       [0.98261801, 0.01738199],\n",
       "       [0.98261801, 0.01738199],\n",
       "       [0.02762159, 0.97237841],\n",
       "       [0.98261801, 0.01738199],\n",
       "       [0.98261801, 0.01738199],\n",
       "       [0.98261801, 0.01738199],\n",
       "       [0.02762159, 0.97237841],\n",
       "       [0.98261801, 0.01738199],\n",
       "       [0.98261801, 0.01738199],\n",
       "       [0.02762159, 0.97237841],\n",
       "       [0.02762159, 0.97237841],\n",
       "       [0.98261801, 0.01738199],\n",
       "       [0.98261801, 0.01738199],\n",
       "       [0.98261801, 0.01738199],\n",
       "       [0.98261801, 0.01738199],\n",
       "       [0.02762159, 0.97237841],\n",
       "       [0.98261801, 0.01738199],\n",
       "       [0.02762159, 0.97237841],\n",
       "       [0.98261801, 0.01738199],\n",
       "       [0.98261801, 0.01738199],\n",
       "       [0.98261801, 0.01738199],\n",
       "       [0.02762159, 0.97237841],\n",
       "       [0.02762159, 0.97237841],\n",
       "       [0.98261801, 0.01738199],\n",
       "       [0.98261801, 0.01738199],\n",
       "       [0.98261801, 0.01738199],\n",
       "       [0.98261801, 0.01738199],\n",
       "       [0.98261801, 0.01738199],\n",
       "       [0.02762159, 0.97237841],\n",
       "       [0.02762159, 0.97237841],\n",
       "       [0.02762159, 0.97237841],\n",
       "       [0.98261801, 0.01738199],\n",
       "       [0.98261801, 0.01738199],\n",
       "       [0.02762159, 0.97237841],\n",
       "       [0.02762159, 0.97237841],\n",
       "       [0.02762159, 0.97237841],\n",
       "       [0.02762159, 0.97237841],\n",
       "       [0.98261801, 0.01738199],\n",
       "       [0.98261801, 0.01738199]])"
      ]
     },
     "execution_count": 17,
     "metadata": {},
     "output_type": "execute_result"
    }
   ],
   "source": [
    "log_model.predict_proba(X_test) # It predict the probabilty of you data sample being in pne class then the other."
   ]
  },
  {
   "cell_type": "markdown",
   "metadata": {},
   "source": [
    "## Thanks for your time, if you liked my code, feel free to connect with me on\n",
    "* [Linkedin](https://www.linkedin.com/in/animeshiology/)\n",
    "* [Personal Website](https://animeshsinghiit.github.io/Animesh.github.io/)\n"
   ]
  }
 ],
 "metadata": {
  "kernelspec": {
   "display_name": "Python 3",
   "language": "python",
   "name": "python3"
  },
  "language_info": {
   "codemirror_mode": {
    "name": "ipython",
    "version": 3
   },
   "file_extension": ".py",
   "mimetype": "text/x-python",
   "name": "python",
   "nbconvert_exporter": "python",
   "pygments_lexer": "ipython3",
   "version": "3.8.5"
  }
 },
 "nbformat": 4,
 "nbformat_minor": 4
}
